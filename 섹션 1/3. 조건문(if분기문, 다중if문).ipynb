{
 "cells": [
  {
   "cell_type": "markdown",
   "metadata": {},
   "source": [
    "## 3. 조건문(if 분기문, 다중 if문)"
   ]
  },
  {
   "cell_type": "markdown",
   "metadata": {},
   "source": [
    "### 조건문 if(분기, 중첩)"
   ]
  },
  {
   "cell_type": "code",
   "execution_count": 1,
   "metadata": {},
   "outputs": [
    {
     "name": "stdout",
     "output_type": "stream",
     "text": [
      "Lucky\n"
     ]
    }
   ],
   "source": [
    "# 기본 if문\n",
    "x = 7\n",
    "if x == 7:\n",
    "    print(\"Lucky\")"
   ]
  },
  {
   "cell_type": "code",
   "execution_count": 2,
   "metadata": {},
   "outputs": [
    {
     "name": "stdout",
     "output_type": "stream",
     "text": [
      "10 이상의 홀수\n"
     ]
    }
   ],
   "source": [
    "# 중첩\n",
    "x = 15\n",
    "if x>10:\n",
    "    if x%2==1:\n",
    "        print(\"10 이상의 홀수\")"
   ]
  },
  {
   "cell_type": "code",
   "execution_count": 4,
   "metadata": {},
   "outputs": [
    {
     "name": "stdout",
     "output_type": "stream",
     "text": [
      "10 보다 작은 자연수\n"
     ]
    }
   ],
   "source": [
    "x = 9\n",
    "if x>0:\n",
    "    if x<10:\n",
    "        print(\"10 보다 작은 자연수\")"
   ]
  },
  {
   "cell_type": "code",
   "execution_count": 5,
   "metadata": {},
   "outputs": [
    {
     "name": "stdout",
     "output_type": "stream",
     "text": [
      "10보다 작은 자연수\n"
     ]
    }
   ],
   "source": [
    "# if 문 하나로 중첩을 구현\n",
    "x = 7\n",
    "if x>0 and x<10:\n",
    "    print(\"10보다 작은 자연수\")"
   ]
  },
  {
   "cell_type": "code",
   "execution_count": 6,
   "metadata": {},
   "outputs": [
    {
     "name": "stdout",
     "output_type": "stream",
     "text": [
      "10보다 작은 자연수\n"
     ]
    }
   ],
   "source": [
    "# 파이썬의 특성을 활용해 중첩문을 한줄로 구현\n",
    "x = 7\n",
    "if 0<x<10:\n",
    "    print(\"10보다 작은 자연수\")"
   ]
  },
  {
   "cell_type": "code",
   "execution_count": 7,
   "metadata": {},
   "outputs": [
    {
     "name": "stdout",
     "output_type": "stream",
     "text": [
      "양수\n"
     ]
    }
   ],
   "source": [
    "# 분기\n",
    "x = 10\n",
    "if x>0:\n",
    "    print(\"양수\")\n",
    "else:\n",
    "    print(\"음수\")"
   ]
  },
  {
   "cell_type": "code",
   "execution_count": 8,
   "metadata": {},
   "outputs": [
    {
     "name": "stdout",
     "output_type": "stream",
     "text": [
      "A\n"
     ]
    }
   ],
   "source": [
    "# 다중 if문\n",
    "\n",
    "# if-elif-else 하나의 문장구조에서 위에서 아래로 실행되면서\n",
    "# 참이 먼저 되는 조건에서 멈춤\n",
    "x = 93\n",
    "if x>=90:\n",
    "    print('A')\n",
    "elif x>=80:\n",
    "    print('B')\n",
    "elif x>=70:\n",
    "    print('C')\n",
    "elif x>=60:\n",
    "    print('D')\n",
    "else:\n",
    "    print('F')"
   ]
  }
 ],
 "metadata": {
  "kernelspec": {
   "display_name": "Python 3",
   "language": "python",
   "name": "python3"
  },
  "language_info": {
   "codemirror_mode": {
    "name": "ipython",
    "version": 3
   },
   "file_extension": ".py",
   "mimetype": "text/x-python",
   "name": "python",
   "nbconvert_exporter": "python",
   "pygments_lexer": "ipython3",
   "version": "3.12.4"
  }
 },
 "nbformat": 4,
 "nbformat_minor": 2
}
