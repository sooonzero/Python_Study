{
 "cells": [
  {
   "cell_type": "markdown",
   "metadata": {},
   "source": [
    "## 7. 문자열과 내장함수"
   ]
  },
  {
   "cell_type": "code",
   "execution_count": 1,
   "metadata": {},
   "outputs": [],
   "source": [
    "msg = \"It is Time\""
   ]
  },
  {
   "cell_type": "code",
   "execution_count": 5,
   "metadata": {},
   "outputs": [
    {
     "name": "stdout",
     "output_type": "stream",
     "text": [
      "IT IS TIME\n",
      "it is time\n",
      "It is Time\n"
     ]
    }
   ],
   "source": [
    "# 대문자와 소문자\n",
    "# 결과물만 출력, 원본은 그대로\n",
    "print(msg.upper()) # 모두 대문자\n",
    "print(msg.lower()) # 모두 소문자\n",
    "print(msg) # 원본"
   ]
  },
  {
   "cell_type": "code",
   "execution_count": 6,
   "metadata": {},
   "outputs": [
    {
     "name": "stdout",
     "output_type": "stream",
     "text": [
      "IT IS TIME\n"
     ]
    }
   ],
   "source": [
    "tmp = msg.upper() # 모두 대문자화된 변수 설정\n",
    "print(tmp)"
   ]
  },
  {
   "cell_type": "code",
   "execution_count": 8,
   "metadata": {},
   "outputs": [
    {
     "name": "stdout",
     "output_type": "stream",
     "text": [
      "1\n"
     ]
    }
   ],
   "source": [
    "# 찾아서 인덱스 번호 출력\n",
    "'''\n",
    "0: I\n",
    "1: T\n",
    "2: \n",
    "3: I\n",
    "4: S\n",
    "5: \n",
    "6: T\n",
    "7: I\n",
    "8: M\n",
    "9: E\n",
    "'''\n",
    "print(tmp.find('T')) # 가장 먼저 일치하는 인덱스 번호"
   ]
  },
  {
   "cell_type": "code",
   "execution_count": 10,
   "metadata": {},
   "outputs": [
    {
     "name": "stdout",
     "output_type": "stream",
     "text": [
      "2\n"
     ]
    }
   ],
   "source": [
    "# 일치하는 조건 개수\n",
    "print(tmp.count('T'))"
   ]
  },
  {
   "cell_type": "code",
   "execution_count": 13,
   "metadata": {},
   "outputs": [
    {
     "name": "stdout",
     "output_type": "stream",
     "text": [
      "ab\n",
      "def\n"
     ]
    }
   ],
   "source": [
    "# 문자열 슬라이스\n",
    "abc = 'abcdefg'\n",
    "print(abc[:2]) # 인덱스 번호 2번 전까지\n",
    "print(abc[3:6]) # 인덱스 번호 3번부터 5번까지"
   ]
  },
  {
   "cell_type": "code",
   "execution_count": 24,
   "metadata": {},
   "outputs": [
    {
     "name": "stdout",
     "output_type": "stream",
     "text": [
      "10\n",
      "It is Time\n",
      "It is Time"
     ]
    }
   ],
   "source": [
    "# 문자열 접근 방법\n",
    "msg = \"It is Time\"\n",
    "print(len(msg)) # msg 의 길이 (문자열 8 + 공백 2)\n",
    "\n",
    "for i in range(len(msg)):\n",
    "    print(msg[i], end='')\n",
    "\n",
    "print()\n",
    "for x in msg:\n",
    "    print(x, end='')   "
   ]
  },
  {
   "cell_type": "code",
   "execution_count": 39,
   "metadata": {},
   "outputs": [
    {
     "name": "stdout",
     "output_type": "stream",
     "text": [
      "IT\n",
      "tisime"
     ]
    }
   ],
   "source": [
    "# 대문자 소문자 확인\n",
    "\n",
    "# 대문자만 출력: isupper()\n",
    "for x in msg:\n",
    "    if x.isupper():\n",
    "        print(x, end='')\n",
    "        \n",
    "print()\n",
    "\n",
    "# 소문자만 출력: islower()\n",
    "for x in msg:\n",
    "    if x.islower():\n",
    "        print(x, end='')"
   ]
  },
  {
   "cell_type": "code",
   "execution_count": 33,
   "metadata": {},
   "outputs": [
    {
     "name": "stdout",
     "output_type": "stream",
     "text": [
      "ItisTime"
     ]
    }
   ],
   "source": [
    "# 알파벳만 출력(공백 제외): isalpha()\n",
    "for x in msg:\n",
    "    if x.isalpha():\n",
    "        print(x, end='')"
   ]
  },
  {
   "cell_type": "code",
   "execution_count": 42,
   "metadata": {},
   "outputs": [
    {
     "name": "stdout",
     "output_type": "stream",
     "text": [
      "65\n",
      "90\n",
      "97\n",
      "122\n"
     ]
    }
   ],
   "source": [
    "# 문자열 아스키넘버 출력: ord()\n",
    "\n",
    "# 대문자\n",
    "tmp ='AZ'\n",
    "for x in tmp:\n",
    "    print(ord(x))\n",
    "\n",
    "# 소문자\n",
    "tmp2 ='az'\n",
    "for x in tmp2:\n",
    "    print(ord(x))"
   ]
  },
  {
   "cell_type": "code",
   "execution_count": 44,
   "metadata": {},
   "outputs": [
    {
     "name": "stdout",
     "output_type": "stream",
     "text": [
      "A\n"
     ]
    }
   ],
   "source": [
    "# 아스키 넘버의 문자열 출력: chr()\n",
    "tmp = 65\n",
    "print(chr(tmp))"
   ]
  }
 ],
 "metadata": {
  "kernelspec": {
   "display_name": "Python 3",
   "language": "python",
   "name": "python3"
  },
  "language_info": {
   "codemirror_mode": {
    "name": "ipython",
    "version": 3
   },
   "file_extension": ".py",
   "mimetype": "text/x-python",
   "name": "python",
   "nbconvert_exporter": "python",
   "pygments_lexer": "ipython3",
   "version": "3.12.4"
  }
 },
 "nbformat": 4,
 "nbformat_minor": 2
}
