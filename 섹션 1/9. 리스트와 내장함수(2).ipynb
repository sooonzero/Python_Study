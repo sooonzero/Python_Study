{
 "cells": [
  {
   "cell_type": "markdown",
   "metadata": {},
   "source": [
    "## 7. 리스트와 내장함수 2"
   ]
  },
  {
   "cell_type": "code",
   "execution_count": 1,
   "metadata": {},
   "outputs": [],
   "source": [
    "a = [23, 12, 36, 53, 19]"
   ]
  },
  {
   "cell_type": "code",
   "execution_count": 2,
   "metadata": {},
   "outputs": [
    {
     "name": "stdout",
     "output_type": "stream",
     "text": [
      "[23, 12, 36]\n",
      "[12, 36, 53]\n"
     ]
    }
   ],
   "source": [
    "# 리스트 슬라이스(0번부터 2번까지)\n",
    "print(a[:3])\n",
    "print(a[1:4])"
   ]
  },
  {
   "cell_type": "code",
   "execution_count": 3,
   "metadata": {},
   "outputs": [
    {
     "name": "stdout",
     "output_type": "stream",
     "text": [
      "5\n"
     ]
    }
   ],
   "source": [
    "# 리스트 길이 구하기\n",
    "print(len(a))"
   ]
  },
  {
   "cell_type": "code",
   "execution_count": 4,
   "metadata": {},
   "outputs": [
    {
     "name": "stdout",
     "output_type": "stream",
     "text": [
      "23 12 36 53 19 "
     ]
    }
   ],
   "source": [
    "# 리스트 값 하나씩 접근하기: for\n",
    "for i in range(len(a)):\n",
    "    print(a[i], end=' ')"
   ]
  },
  {
   "cell_type": "code",
   "execution_count": 5,
   "metadata": {},
   "outputs": [
    {
     "name": "stdout",
     "output_type": "stream",
     "text": [
      "23 12 36 53 19 "
     ]
    }
   ],
   "source": [
    "for x in a:\n",
    "    print(x, end=' ')"
   ]
  },
  {
   "cell_type": "code",
   "execution_count": 6,
   "metadata": {},
   "outputs": [
    {
     "name": "stdout",
     "output_type": "stream",
     "text": [
      "23 53 19 "
     ]
    }
   ],
   "source": [
    "# 리스트 값 중 홀수만 출력\n",
    "for x in a:\n",
    "    if x%2 == 1:\n",
    "        print(x, end=' ')"
   ]
  },
  {
   "cell_type": "code",
   "execution_count": 7,
   "metadata": {},
   "outputs": [
    {
     "name": "stdout",
     "output_type": "stream",
     "text": [
      "(0, 23)\n",
      "(1, 12)\n",
      "(2, 36)\n",
      "(3, 53)\n",
      "(4, 19)\n"
     ]
    }
   ],
   "source": [
    "# 리스트를 튜플 구조(인덱스, 값)로 출력: enumerate\n",
    "'''\n",
    "인덱스: 값\n",
    "0: 23\n",
    "1: 12\n",
    "2: 36\n",
    "3: 53\n",
    "4: 19\n",
    "'''\n",
    "for x in enumerate(a):\n",
    "    print(x)"
   ]
  },
  {
   "cell_type": "code",
   "execution_count": 8,
   "metadata": {},
   "outputs": [
    {
     "name": "stdout",
     "output_type": "stream",
     "text": [
      "1\n"
     ]
    }
   ],
   "source": [
    "# 튜플 초기화\n",
    "b = (1, 2, 3, 4, 5)\n",
    "print(b[0])"
   ]
  },
  {
   "cell_type": "code",
   "execution_count": 9,
   "metadata": {},
   "outputs": [
    {
     "ename": "TypeError",
     "evalue": "'tuple' object does not support item assignment",
     "output_type": "error",
     "traceback": [
      "\u001b[1;31m---------------------------------------------------------------------------\u001b[0m",
      "\u001b[1;31mTypeError\u001b[0m                                 Traceback (most recent call last)",
      "Cell \u001b[1;32mIn[9], line 2\u001b[0m\n\u001b[0;32m      1\u001b[0m \u001b[38;5;66;03m# 리스트와 차이점: 튜플은 값 수정이 불가능\u001b[39;00m\n\u001b[1;32m----> 2\u001b[0m \u001b[43mb\u001b[49m\u001b[43m[\u001b[49m\u001b[38;5;241;43m0\u001b[39;49m\u001b[43m]\u001b[49m \u001b[38;5;241m=\u001b[39m \u001b[38;5;241m7\u001b[39m\n\u001b[0;32m      3\u001b[0m \u001b[38;5;28mprint\u001b[39m(b[\u001b[38;5;241m0\u001b[39m])\n",
      "\u001b[1;31mTypeError\u001b[0m: 'tuple' object does not support item assignment"
     ]
    }
   ],
   "source": [
    "# 리스트와 차이점: 튜플은 값 수정이 불가능\n",
    "b[0] = 7\n",
    "print(b[0])"
   ]
  },
  {
   "cell_type": "code",
   "execution_count": 12,
   "metadata": {},
   "outputs": [
    {
     "name": "stdout",
     "output_type": "stream",
     "text": [
      "0 23\n",
      "1 12\n",
      "2 36\n",
      "3 53\n",
      "4 19\n"
     ]
    }
   ],
   "source": [
    "# 튜플 원소 값 접근: for, enumerate\n",
    "for x in enumerate(a):\n",
    "    print(x[0], x[1])"
   ]
  },
  {
   "cell_type": "code",
   "execution_count": 13,
   "metadata": {},
   "outputs": [
    {
     "name": "stdout",
     "output_type": "stream",
     "text": [
      "0 23\n",
      "1 12\n",
      "2 36\n",
      "3 53\n",
      "4 19\n"
     ]
    }
   ],
   "source": [
    "# enumerate 주로 사용하는 방법: for\n",
    "for index, value in enumerate(a):\n",
    "    print(index,value)"
   ]
  },
  {
   "cell_type": "code",
   "execution_count": 14,
   "metadata": {},
   "outputs": [
    {
     "name": "stdout",
     "output_type": "stream",
     "text": [
      "Lucky1\n",
      "Fail2\n"
     ]
    }
   ],
   "source": [
    "# 모든 값 조건 비교1: all()\n",
    "#for문이 a 리스트에 하나씩 접근하면서 60>x 조건에 모두 참인가?\n",
    "if all(60>x for x in a):\n",
    "    print(\"Lucky1\")\n",
    "#하나라도 거짓이라면\n",
    "else:\n",
    "    print(\"Fail1\")\n",
    "    \n",
    "    \n",
    "if all(50<x for x in a):\n",
    "    print(\"Lucky2\")\n",
    "else:\n",
    "    print(\"Fail2\")\n"
   ]
  },
  {
   "cell_type": "code",
   "execution_count": 15,
   "metadata": {},
   "outputs": [
    {
     "name": "stdout",
     "output_type": "stream",
     "text": [
      "Lucky1\n",
      "Lucky2\n"
     ]
    }
   ],
   "source": [
    "# 모든 값 조건 비교2:any()\n",
    "#for문이 a 리스트에 하나씩 접근하면서 60>x 조건에 하나라도 참인가?\n",
    "if any(60>x for x in a):\n",
    "    print(\"Lucky1\")\n",
    "else:\n",
    "    print(\"Fail1\")\n",
    "    \n",
    "    \n",
    "if any(50<x for x in a):\n",
    "    print(\"Lucky2\")\n",
    "else:\n",
    "    print(\"Fail2\")"
   ]
  }
 ],
 "metadata": {
  "kernelspec": {
   "display_name": "Python 3",
   "language": "python",
   "name": "python3"
  },
  "language_info": {
   "codemirror_mode": {
    "name": "ipython",
    "version": 3
   },
   "file_extension": ".py",
   "mimetype": "text/x-python",
   "name": "python",
   "nbconvert_exporter": "python",
   "pygments_lexer": "ipython3",
   "version": "3.12.4"
  }
 },
 "nbformat": 4,
 "nbformat_minor": 2
}
